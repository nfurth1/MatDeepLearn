{
 "cells": [
  {
   "cell_type": "code",
   "execution_count": 1,
   "id": "6cd9ff23",
   "metadata": {},
   "outputs": [],
   "source": [
    "import pandas as pd\n",
    "import os"
   ]
  },
  {
   "cell_type": "code",
   "execution_count": 2,
   "id": "f49549ee",
   "metadata": {},
   "outputs": [],
   "source": [
    "def xyzFromList(df):\n",
    "    x = df['Molecule']\n",
    "    for i in range(len(x)):\n",
    "        x[i] = x[i] + '.xyz'\n",
    "        \n",
    "    file = open(\"data_MMFF94.txt\", 'r')\n",
    "    Lines = file.readlines()\n",
    "    \n",
    "    ind = [None]*75\n",
    "    j = 0\n",
    "\n",
    "    for i in range(len(Lines)):\n",
    "        if(len(Lines[i]) != 0):\n",
    "            if(Lines[i][0] == \"0\" or Lines[i][0] == \"1\" or Lines[i][0] == \"2\" or Lines[i][0] == \"3\" \n",
    "               or Lines[i][0] == \"4\" or Lines[i][0] == \"5\" or Lines[i][0] == \"6\" or Lines[i][0] == \"7\" \n",
    "               or Lines[i][0] == \"8\" or Lines[i][0] == \"9\"):\n",
    "                ind[j] = i\n",
    "                j += 1\n",
    "\n",
    "    ind[74] = len(Lines)\n",
    "    \n",
    "    for i in range(len(x)):\n",
    "        for j in range(ind[i], ind[i + 1]):\n",
    "            with open(x[len(x) - i - 1], 'a') as f:\n",
    "                    f.write(Lines[j])\n",
    "        "
   ]
  },
  {
   "cell_type": "code",
   "execution_count": 10,
   "id": "80e2fb95",
   "metadata": {},
   "outputs": [],
   "source": [
    "def SMILESFromDf(df):\n",
    "    x = df['Molecule']\n",
    "    for i in range(len(x)):\n",
    "        x[i] = x[i] + '.smi' \n",
    "    \n",
    "    y = df['SMILES']\n",
    "    \n",
    "    for i in range(len(x)):\n",
    "         with open(x[i], 'a') as f:\n",
    "                f.write(y[i])       "
   ]
  },
  {
   "cell_type": "code",
   "execution_count": 11,
   "id": "3898be8d",
   "metadata": {},
   "outputs": [
    {
     "data": {
      "text/html": [
       "<div>\n",
       "<style scoped>\n",
       "    .dataframe tbody tr th:only-of-type {\n",
       "        vertical-align: middle;\n",
       "    }\n",
       "\n",
       "    .dataframe tbody tr th {\n",
       "        vertical-align: top;\n",
       "    }\n",
       "\n",
       "    .dataframe thead th {\n",
       "        text-align: right;\n",
       "    }\n",
       "</style>\n",
       "<table border=\"1\" class=\"dataframe\">\n",
       "  <thead>\n",
       "    <tr style=\"text-align: right;\">\n",
       "      <th></th>\n",
       "      <th>Molecule</th>\n",
       "      <th>SMILES</th>\n",
       "    </tr>\n",
       "  </thead>\n",
       "  <tbody>\n",
       "    <tr>\n",
       "      <th>0</th>\n",
       "      <td>C6EO2</td>\n",
       "      <td>CCCCCCOCCO</td>\n",
       "    </tr>\n",
       "    <tr>\n",
       "      <th>1</th>\n",
       "      <td>C6EO3</td>\n",
       "      <td>CCCCCCOCCOCCO</td>\n",
       "    </tr>\n",
       "    <tr>\n",
       "      <th>2</th>\n",
       "      <td>C6EO4</td>\n",
       "      <td>CCCCCCOCCOCCOCCO</td>\n",
       "    </tr>\n",
       "    <tr>\n",
       "      <th>3</th>\n",
       "      <td>C8EO3</td>\n",
       "      <td>CCCCCCCCOCCOCCO</td>\n",
       "    </tr>\n",
       "    <tr>\n",
       "      <th>4</th>\n",
       "      <td>C8EO4</td>\n",
       "      <td>CCCCCCCCOCCOCCOCCO</td>\n",
       "    </tr>\n",
       "    <tr>\n",
       "      <th>...</th>\n",
       "      <td>...</td>\n",
       "      <td>...</td>\n",
       "    </tr>\n",
       "    <tr>\n",
       "      <th>70</th>\n",
       "      <td>Ziegler C14 0PO3EO Carboxylate</td>\n",
       "      <td>CCCCCCCCCCCCCCOCCOCCOCCC(=O)O</td>\n",
       "    </tr>\n",
       "    <tr>\n",
       "      <th>71</th>\n",
       "      <td>Sodium naphthenate</td>\n",
       "      <td>CCC1CCC(C1)CCC(=O)[O-].[Na+]</td>\n",
       "    </tr>\n",
       "    <tr>\n",
       "      <th>72</th>\n",
       "      <td>Dodecanol</td>\n",
       "      <td>CCCCCCCCCCCCO</td>\n",
       "    </tr>\n",
       "    <tr>\n",
       "      <th>73</th>\n",
       "      <td>810FD-5 Ethoxylate</td>\n",
       "      <td>CCCCCCCCCOCCOCCOCCOCCOCCO</td>\n",
       "    </tr>\n",
       "    <tr>\n",
       "      <th>74</th>\n",
       "      <td>AMA</td>\n",
       "      <td>CC(=C)C(=O)OCC=C</td>\n",
       "    </tr>\n",
       "  </tbody>\n",
       "</table>\n",
       "<p>75 rows × 2 columns</p>\n",
       "</div>"
      ],
      "text/plain": [
       "                          Molecule                          SMILES\n",
       "0                            C6EO2                      CCCCCCOCCO\n",
       "1                            C6EO3                   CCCCCCOCCOCCO\n",
       "2                            C6EO4                CCCCCCOCCOCCOCCO\n",
       "3                            C8EO3                 CCCCCCCCOCCOCCO\n",
       "4                            C8EO4              CCCCCCCCOCCOCCOCCO\n",
       "..                             ...                             ...\n",
       "70  Ziegler C14 0PO3EO Carboxylate   CCCCCCCCCCCCCCOCCOCCOCCC(=O)O\n",
       "71              Sodium naphthenate  CCC1CCC(C1)CCC(=O)[O-].[Na+]  \n",
       "72                       Dodecanol                 CCCCCCCCCCCCO  \n",
       "73              810FD-5 Ethoxylate       CCCCCCCCCOCCOCCOCCOCCOCCO\n",
       "74                             AMA                CC(=C)C(=O)OCC=C\n",
       "\n",
       "[75 rows x 2 columns]"
      ]
     },
     "execution_count": 11,
     "metadata": {},
     "output_type": "execute_result"
    }
   ],
   "source": [
    "df = pd.read_csv('CC.csv')\n",
    "df\n"
   ]
  },
  {
   "cell_type": "code",
   "execution_count": 12,
   "id": "788fa5ba",
   "metadata": {},
   "outputs": [],
   "source": [
    "SMILESFromDf(df)"
   ]
  },
  {
   "cell_type": "code",
   "execution_count": 46,
   "id": "4ff892ae",
   "metadata": {},
   "outputs": [
    {
     "name": "stderr",
     "output_type": "stream",
     "text": [
      "C:\\Users\\Nick\\AppData\\Local\\Temp/ipykernel_24572/3524770697.py:4: SettingWithCopyWarning: \n",
      "A value is trying to be set on a copy of a slice from a DataFrame\n",
      "\n",
      "See the caveats in the documentation: https://pandas.pydata.org/pandas-docs/stable/user_guide/indexing.html#returning-a-view-versus-a-copy\n",
      "  x[i] = x[i] + '.xyz'\n"
     ]
    }
   ],
   "source": [
    "df = pd.read_csv('data.csv')\n",
    "\n",
    "xyzFromList(df)"
   ]
  },
  {
   "cell_type": "code",
   "execution_count": null,
   "id": "aebce220",
   "metadata": {},
   "outputs": [],
   "source": [
    "xyzFromList(df)"
   ]
  },
  {
   "cell_type": "code",
   "execution_count": null,
   "id": "12fce2ba",
   "metadata": {},
   "outputs": [],
   "source": []
  }
 ],
 "metadata": {
  "kernelspec": {
   "display_name": "Python 3 (ipykernel)",
   "language": "python",
   "name": "python3"
  },
  "language_info": {
   "codemirror_mode": {
    "name": "ipython",
    "version": 3
   },
   "file_extension": ".py",
   "mimetype": "text/x-python",
   "name": "python",
   "nbconvert_exporter": "python",
   "pygments_lexer": "ipython3",
   "version": "3.9.7"
  }
 },
 "nbformat": 4,
 "nbformat_minor": 5
}
